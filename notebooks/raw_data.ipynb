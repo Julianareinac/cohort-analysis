{
 "cells": [
  {
   "cell_type": "code",
   "execution_count": 16,
   "id": "3c496614",
   "metadata": {},
   "outputs": [
    {
     "data": {
      "text/html": [
       "<div>\n",
       "<style scoped>\n",
       "    .dataframe tbody tr th:only-of-type {\n",
       "        vertical-align: middle;\n",
       "    }\n",
       "\n",
       "    .dataframe tbody tr th {\n",
       "        vertical-align: top;\n",
       "    }\n",
       "\n",
       "    .dataframe thead th {\n",
       "        text-align: right;\n",
       "    }\n",
       "</style>\n",
       "<table border=\"1\" class=\"dataframe\">\n",
       "  <thead>\n",
       "    <tr style=\"text-align: right;\">\n",
       "      <th></th>\n",
       "      <th>ORDER_ID</th>\n",
       "      <th>DATE</th>\n",
       "      <th>USER_ID</th>\n",
       "      <th>VERTICAL</th>\n",
       "    </tr>\n",
       "  </thead>\n",
       "  <tbody>\n",
       "    <tr>\n",
       "      <th>0</th>\n",
       "      <td>1</td>\n",
       "      <td>2024-10-20</td>\n",
       "      <td>17</td>\n",
       "      <td>Restaurant</td>\n",
       "    </tr>\n",
       "    <tr>\n",
       "      <th>1</th>\n",
       "      <td>2</td>\n",
       "      <td>2024-10-04</td>\n",
       "      <td>55</td>\n",
       "      <td>Travel</td>\n",
       "    </tr>\n",
       "    <tr>\n",
       "      <th>2</th>\n",
       "      <td>3</td>\n",
       "      <td>2024-09-13</td>\n",
       "      <td>60</td>\n",
       "      <td>Travel</td>\n",
       "    </tr>\n",
       "    <tr>\n",
       "      <th>3</th>\n",
       "      <td>4</td>\n",
       "      <td>2024-10-17</td>\n",
       "      <td>135</td>\n",
       "      <td>Restaurant</td>\n",
       "    </tr>\n",
       "    <tr>\n",
       "      <th>4</th>\n",
       "      <td>5</td>\n",
       "      <td>2024-10-05</td>\n",
       "      <td>140</td>\n",
       "      <td>Restaurant</td>\n",
       "    </tr>\n",
       "    <tr>\n",
       "      <th>...</th>\n",
       "      <td>...</td>\n",
       "      <td>...</td>\n",
       "      <td>...</td>\n",
       "      <td>...</td>\n",
       "    </tr>\n",
       "    <tr>\n",
       "      <th>9995</th>\n",
       "      <td>9996</td>\n",
       "      <td>2024-09-03</td>\n",
       "      <td>80</td>\n",
       "      <td>Restaurant</td>\n",
       "    </tr>\n",
       "    <tr>\n",
       "      <th>9996</th>\n",
       "      <td>9997</td>\n",
       "      <td>2024-09-23</td>\n",
       "      <td>203</td>\n",
       "      <td>Restaurant</td>\n",
       "    </tr>\n",
       "    <tr>\n",
       "      <th>9997</th>\n",
       "      <td>9998</td>\n",
       "      <td>2024-10-22</td>\n",
       "      <td>56</td>\n",
       "      <td>Turbo</td>\n",
       "    </tr>\n",
       "    <tr>\n",
       "      <th>9998</th>\n",
       "      <td>9999</td>\n",
       "      <td>2024-09-08</td>\n",
       "      <td>15</td>\n",
       "      <td>Restaurant</td>\n",
       "    </tr>\n",
       "    <tr>\n",
       "      <th>9999</th>\n",
       "      <td>10000</td>\n",
       "      <td>2024-10-19</td>\n",
       "      <td>250</td>\n",
       "      <td>Travel</td>\n",
       "    </tr>\n",
       "  </tbody>\n",
       "</table>\n",
       "<p>10000 rows × 4 columns</p>\n",
       "</div>"
      ],
      "text/plain": [
       "      ORDER_ID       DATE  USER_ID    VERTICAL\n",
       "0            1 2024-10-20       17  Restaurant\n",
       "1            2 2024-10-04       55      Travel\n",
       "2            3 2024-09-13       60      Travel\n",
       "3            4 2024-10-17      135  Restaurant\n",
       "4            5 2024-10-05      140  Restaurant\n",
       "...        ...        ...      ...         ...\n",
       "9995      9996 2024-09-03       80  Restaurant\n",
       "9996      9997 2024-09-23      203  Restaurant\n",
       "9997      9998 2024-10-22       56       Turbo\n",
       "9998      9999 2024-09-08       15  Restaurant\n",
       "9999     10000 2024-10-19      250      Travel\n",
       "\n",
       "[10000 rows x 4 columns]"
      ]
     },
     "execution_count": 16,
     "metadata": {},
     "output_type": "execute_result"
    }
   ],
   "source": [
    "import pandas as pd\n",
    "import numpy as np\n",
    "from datetime import datetime\n",
    "\n",
    "# Configuration\n",
    "num_rows = 10_000\n",
    "num_users = 250\n",
    "start_date = pd.to_datetime(\"2024-09-02\")\n",
    "end_date = pd.to_datetime(\"2024-10-27\")\n",
    "date_range = pd.date_range(start=start_date, end=end_date)\n",
    "verticals_categories= ['Restaurant', 'Turbo', 'CPGs', 'Travel']\n",
    "rows_per_category = num_rows // len(verticals_categories)  # 2500\n",
    "\n",
    "np.random.seed(50)  # For reproducibility\n",
    "\n",
    "# Generate columns\n",
    "order_ids = np.arange(1, num_rows + 1)\n",
    "dates = np.random.choice(date_range, size=num_rows)\n",
    "user_ids = np.random.choice(np.arange(1, num_users + 1), size=num_rows)\n",
    "verticals = np.array(verticals_categories * rows_per_category)\n",
    "np.random.shuffle(verticals)\n",
    "\n",
    "# Create DataFrame\n",
    "raw_data = pd.DataFrame({\n",
    "    'ORDER_ID': order_ids,\n",
    "    'DATE': dates,\n",
    "    'USER_ID': user_ids,\n",
    "    'VERTICAL': verticals\n",
    "})\n",
    "\n",
    "raw_data\n"
   ]
  },
  {
   "cell_type": "code",
   "execution_count": 17,
   "id": "4b949157",
   "metadata": {},
   "outputs": [
    {
     "data": {
      "text/plain": [
       "VERTICAL\n",
       "Restaurant    0.25\n",
       "Travel        0.25\n",
       "Turbo         0.25\n",
       "CPGs          0.25\n",
       "Name: proportion, dtype: float64"
      ]
     },
     "execution_count": 17,
     "metadata": {},
     "output_type": "execute_result"
    }
   ],
   "source": [
    "raw_data['VERTICAL'].value_counts(normalize=True)\n"
   ]
  },
  {
   "cell_type": "code",
   "execution_count": 18,
   "id": "92102e0d",
   "metadata": {},
   "outputs": [
    {
     "data": {
      "text/plain": [
       "250"
      ]
     },
     "execution_count": 18,
     "metadata": {},
     "output_type": "execute_result"
    }
   ],
   "source": [
    "raw_data['USER_ID'].nunique()"
   ]
  },
  {
   "cell_type": "code",
   "execution_count": 19,
   "id": "054a05de",
   "metadata": {},
   "outputs": [
    {
     "data": {
      "text/plain": [
       "True"
      ]
     },
     "execution_count": 19,
     "metadata": {},
     "output_type": "execute_result"
    }
   ],
   "source": [
    "raw_data['ORDER_ID'].is_unique"
   ]
  },
  {
   "cell_type": "code",
   "execution_count": 25,
   "id": "08ba71ab",
   "metadata": {},
   "outputs": [],
   "source": [
    "#Export to CSV\n",
    "raw_data.to_csv('../data/raw_data.csv', index=False)"
   ]
  }
 ],
 "metadata": {
  "kernelspec": {
   "display_name": "env",
   "language": "python",
   "name": "python3"
  },
  "language_info": {
   "codemirror_mode": {
    "name": "ipython",
    "version": 3
   },
   "file_extension": ".py",
   "mimetype": "text/x-python",
   "name": "python",
   "nbconvert_exporter": "python",
   "pygments_lexer": "ipython3",
   "version": "3.12.6"
  }
 },
 "nbformat": 4,
 "nbformat_minor": 5
}
